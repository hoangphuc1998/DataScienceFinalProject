{
 "cells": [
  {
   "cell_type": "code",
   "execution_count": 1,
   "metadata": {},
   "outputs": [
    {
     "data": {
      "text/plain": [
       "True"
      ]
     },
     "execution_count": 1,
     "metadata": {},
     "output_type": "execute_result"
    }
   ],
   "source": [
    "import urllib.robotparser\n",
    "rp = urllib.robotparser.RobotFileParser()\n",
    "rp.set_url('https://www.amazon.com/robots.txt')\n",
    "rp.read()\n",
    "rp.can_fetch('*', 'https://www.amazon.com/')"
   ]
  },
  {
   "cell_type": "code",
   "execution_count": 10,
   "metadata": {},
   "outputs": [],
   "source": [
    "\n",
    "from selenium import webdriver\n",
    "from selenium.webdriver.common.keys import Keys\n",
    "import time"
   ]
  },
  {
   "cell_type": "code",
   "execution_count": 11,
   "metadata": {},
   "outputs": [],
   "source": [
    "driver = webdriver.Chrome(executable_path=r'chromedriver.exe')\n",
    "driver.maximize_window()"
   ]
  },
  {
   "cell_type": "code",
   "execution_count": 13,
   "metadata": {},
   "outputs": [],
   "source": [
    "driver.get('https://tiki.vn')\n",
    "time.sleep(1.)\n",
    "driver.get('https://amazon.com')"
   ]
  },
  {
   "cell_type": "code",
   "execution_count": 14,
   "metadata": {},
   "outputs": [],
   "source": [
    "elem = driver.find_element_by_id('twotabsearchtextbox')\n",
    "elem.clear()\n",
    "elem.send_keys(\"laptop\")\n",
    "elem.send_keys(Keys.RETURN)"
   ]
  },
  {
   "cell_type": "code",
   "execution_count": null,
   "metadata": {},
   "outputs": [],
   "source": []
  },
  {
   "cell_type": "code",
   "execution_count": null,
   "metadata": {},
   "outputs": [],
   "source": [
    "features = ['Screen Size', 'Processor', 'RAM', 'Hard Drive', 'Chipset Brand', 'Card Description', 'Number of USB 3.0 Ports', 'Brand Name', \n",
    "           'Series', 'Operating System', 'Item Weight', 'Product Dimensions', 'Item Dimensions L x W x H', 'Processor Brand',\n",
    "           'Processor Count','Flash Memory Size','Hard Drive Interface', 'Hard Drive Rotational Speed', 'Optical Drive Type','Batteries']\n",
    "features_with_price = features.copy()\n",
    "features_with_price.append('Price')"
   ]
  },
  {
   "cell_type": "code",
   "execution_count": null,
   "metadata": {},
   "outputs": [],
   "source": [
    "def extractData(text):\n",
    "    res = ['']*len(features)\n",
    "    for lines in text:\n",
    "        liness = lines.text\n",
    "        for line in liness.split('\\n'):\n",
    "            for i in range (len(features)):\n",
    "                if features[i] in line and res[i] =='':\n",
    "                    res[i] = line[len(features[i])+1:]\n",
    "    return res"
   ]
  },
  {
   "cell_type": "code",
   "execution_count": null,
   "metadata": {},
   "outputs": [],
   "source": [
    "file = open ('laptop.csv', 'w', encoding = 'utf-8')\n",
    "output = csv.writer(file, delimiter = '\\t')\n",
    "output.writerow(features_with_price)\n",
    "for url in url_list:\n",
    "    time.sleep(.1)\n",
    "    driver.get(url)\n",
    "    print (url)\n",
    "    infor = driver.find_elements_by_class_name('prodDetTable')\n",
    "    data = extractData(infor)\n",
    "    price = driver.find_elements_by_id('priceblock_ourprice')\n",
    "    if price == []:\n",
    "        price = browser.find_elements_by_id('priceblock_dealprice')\n",
    "    if price != []:\n",
    "        price = price[0].text\n",
    "    else:\n",
    "        price = ''\n",
    "    data.append(price)\n",
    "    output.writerow(data)\n",
    "file.close()"
   ]
  }
 ],
 "metadata": {
  "kernelspec": {
   "display_name": "Python 3",
   "language": "python",
   "name": "python3"
  },
  "language_info": {
   "codemirror_mode": {
    "name": "ipython",
    "version": 3
   },
   "file_extension": ".py",
   "mimetype": "text/x-python",
   "name": "python",
   "nbconvert_exporter": "python",
   "pygments_lexer": "ipython3",
   "version": "3.7.4"
  }
 },
 "nbformat": 4,
 "nbformat_minor": 2
}
