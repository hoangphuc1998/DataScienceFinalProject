{
 "cells": [
  {
   "cell_type": "markdown",
   "metadata": {},
   "source": [
    "# Thành viên nhóm:\n",
    "- Nguyễn Thị Tình - 1612703\n",
    "- Trang Trung Hoàng Phúc - 1612521"
   ]
  },
  {
   "cell_type": "code",
   "execution_count": 1,
   "metadata": {},
   "outputs": [
    {
     "data": {
      "text/plain": [
       "True"
      ]
     },
     "execution_count": 1,
     "metadata": {},
     "output_type": "execute_result"
    }
   ],
   "source": [
    "import urllib.robotparser\n",
    "rp = urllib.robotparser.RobotFileParser()\n",
    "rp.set_url('https://freesound.org/')\n",
    "rp.read()\n",
    "rp.can_fetch('*', 'https://freesound.org/')"
   ]
  },
  {
   "cell_type": "code",
   "execution_count": 19,
   "metadata": {},
   "outputs": [],
   "source": [
    "import pandas as pd\n",
    "from selenium import webdriver\n",
    "from selenium.webdriver.common.keys import Keys\n",
    "import time\n",
    "from tqdm import tqdm_notebook as tqdm\n",
    "import glob"
   ]
  },
  {
   "cell_type": "code",
   "execution_count": 7,
   "metadata": {},
   "outputs": [],
   "source": [
    "driver = webdriver.Chrome(executable_path=r'chromedriver.exe')\n",
    "driver.maximize_window()"
   ]
  },
  {
   "cell_type": "code",
   "execution_count": 8,
   "metadata": {},
   "outputs": [],
   "source": [
    "# Login\n",
    "driver.get('https://freesound.org/home/login/?next=/')\n",
    "username = driver.find_element_by_id('id_username')\n",
    "username.send_keys('sounddetection')\n",
    "password = driver.find_element_by_id('id_password')\n",
    "password.send_keys('12345')\n",
    "password.send_keys(Keys.RETURN)"
   ]
  },
  {
   "cell_type": "code",
   "execution_count": 12,
   "metadata": {},
   "outputs": [],
   "source": [
    "# Get all links\n",
    "keywords = ['dog bark', 'baby cry', 'say go']\n",
    "for keyword in keywords:\n",
    "    audio_href = []\n",
    "    search_box = driver.find_element_by_id('search')\n",
    "    search_box = search_box.find_element_by_tag_name('input')\n",
    "    search_box.send_keys(keyword)\n",
    "    search_box.send_keys(Keys.RETURN)\n",
    "    # Only get first 5 pages\n",
    "    with open(keyword + '.txt', 'w') as f:\n",
    "        for _ in range(5):\n",
    "            audio_urls = driver.find_elements_by_class_name('title')\n",
    "            for url in audio_urls:\n",
    "                f.write(url.get_attribute('href') + '\\n')\n",
    "            next_page = driver.find_element_by_class_name('next-page')\n",
    "            next_page = next_page.find_element_by_tag_name('a')\n",
    "            next_page.click()\n",
    "    "
   ]
  },
  {
   "cell_type": "code",
   "execution_count": 20,
   "metadata": {},
   "outputs": [],
   "source": [
    "def enable_download_headless(browser,download_dir):\n",
    "    browser.command_executor._commands[\"send_command\"] = (\"POST\", '/session/$sessionId/chromium/send_command')\n",
    "    params = {'cmd':'Page.setDownloadBehavior', 'params': {'behavior': 'allow', 'downloadPath': download_dir}}\n",
    "    browser.execute(\"send_command\", params)\n",
    "# Download an audio base on an link\n",
    "def download_file(url):\n",
    "    driver.get(url)\n",
    "    download_button = driver.find_element_by_id('download_button')\n",
    "    download_button.click()\n",
    "    \n",
    "def wait_for_downloads(folder):\n",
    "    unfinished_files = glob.glob(folder + \"\\\\*.crdownload\")\n",
    "    if len(unfinished_files) >= 5:\n",
    "        return True\n",
    "    else:\n",
    "        return False"
   ]
  },
  {
   "cell_type": "code",
   "execution_count": 21,
   "metadata": {},
   "outputs": [],
   "source": [
    "for keyword in keywords:\n",
    "    download_dir = 'D:\\Learning\\DataScience\\Project\\DataScienceFinalProject\\FreesoundAudio\\\\' + keyword\n",
    "    enable_download_headless(driver, download_dir)\n",
    "    with open(keyword + '.txt', 'r') as f:\n",
    "        for url in f.readlines():\n",
    "            download_file(url)\n",
    "            while wait_for_downloads(download_dir):\n",
    "                time.sleep(5)"
   ]
  },
  {
   "cell_type": "code",
   "execution_count": null,
   "metadata": {},
   "outputs": [],
   "source": []
  }
 ],
 "metadata": {
  "kernelspec": {
   "display_name": "Python 3",
   "language": "python",
   "name": "python3"
  },
  "language_info": {
   "codemirror_mode": {
    "name": "ipython",
    "version": 3
   },
   "file_extension": ".py",
   "mimetype": "text/x-python",
   "name": "python",
   "nbconvert_exporter": "python",
   "pygments_lexer": "ipython3",
   "version": "3.7.4"
  }
 },
 "nbformat": 4,
 "nbformat_minor": 2
}
