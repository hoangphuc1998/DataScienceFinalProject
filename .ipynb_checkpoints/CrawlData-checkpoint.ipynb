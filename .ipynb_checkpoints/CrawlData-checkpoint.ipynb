{
 "cells": [
  {
   "cell_type": "markdown",
   "metadata": {},
   "source": [
    "# Thành viên nhóm:\n",
    "- Nguyễn Thị Tình - 1612703\n",
    "- Trang Trung Hoàng Phúc - 1612521"
   ]
  },
  {
   "cell_type": "code",
   "execution_count": 1,
   "metadata": {},
   "outputs": [
    {
     "data": {
      "text/plain": [
       "True"
      ]
     },
     "execution_count": 1,
     "metadata": {},
     "output_type": "execute_result"
    }
   ],
   "source": [
    "import urllib.robotparser\n",
    "rp = urllib.robotparser.RobotFileParser()\n",
    "rp.set_url('https://freesound.org/')\n",
    "rp.read()\n",
    "rp.can_fetch('*', 'https://freesound.org/')"
   ]
  },
  {
   "cell_type": "code",
   "execution_count": 2,
   "metadata": {},
   "outputs": [],
   "source": [
    "import pandas as pd\n",
    "from selenium import webdriver\n",
    "from selenium.webdriver.common.keys import Keys\n",
    "import time\n",
    "from tqdm import tqdm_notebook as tqdm"
   ]
  },
  {
   "cell_type": "code",
   "execution_count": 7,
   "metadata": {},
   "outputs": [],
   "source": [
    "driver = webdriver.Chrome(executable_path=r'chromedriver.exe')\n",
    "driver.maximize_window()"
   ]
  },
  {
   "cell_type": "code",
   "execution_count": 8,
   "metadata": {},
   "outputs": [],
   "source": [
    "# Login\n",
    "driver.get('https://freesound.org/home/login/?next=/')\n",
    "username = driver.find_element_by_id('id_username')\n",
    "username.send_keys('sounddetection')\n",
    "password = driver.find_element_by_id('id_password')\n",
    "password.send_keys('12345')\n",
    "password.send_keys(Keys.RETURN)"
   ]
  },
  {
   "cell_type": "code",
   "execution_count": 11,
   "metadata": {},
   "outputs": [],
   "source": [
    "# Get all links\n",
    "keywords = ['dog bark', 'baby cry', 'say go']\n",
    "for keyword in keywords:\n",
    "    audio_href = []\n",
    "    search_box = driver.find_element_by_id('search')\n",
    "    search_box = search_box.find_element_by_tag_name('input')\n",
    "    search_box.send_keys(keyword)\n",
    "    search_box.send_keys(Keys.RETURN)\n",
    "    # Only get first 5 pages\n",
    "    with open(keyword + '.txt', 'w') as f:\n",
    "        for _ in range(5):\n",
    "            audio_urls = driver.find_elements_by_class_name('title')\n",
    "            for url in audio_urls:\n",
    "                f.write(url.get_attribute('href') + '\\n')\n",
    "            next_page = driver.find_element_by_class_name('next-page')\n",
    "            next_page = next_page.find_element_by_tag_name('a')\n",
    "            next_page.click()\n",
    "    "
   ]
  },
  {
   "cell_type": "code",
   "execution_count": 5,
   "metadata": {},
   "outputs": [],
   "source": [
    "def enable_download_headless(browser,download_dir):\n",
    "    browser.command_executor._commands[\"send_command\"] = (\"POST\", '/session/$sessionId/chromium/send_command')\n",
    "    params = {'cmd':'Page.setDownloadBehavior', 'params': {'behavior': 'allow', 'downloadPath': download_dir}}\n",
    "    browser.execute(\"send_command\", params)\n",
    "# Download an audio base on an link\n",
    "download_dir = 'D:\\Learning\\DataScience\\Project\\DataScienceFinalProject\\FreesoundAudio'\n",
    "enable_download_headless(driver, download_dir)"
   ]
  },
  {
   "cell_type": "code",
   "execution_count": 7,
   "metadata": {},
   "outputs": [],
   "source": [
    "# List url\n",
    "url_list = []"
   ]
  },
  {
   "cell_type": "code",
   "execution_count": 8,
   "metadata": {},
   "outputs": [],
   "source": [
    "# Get url list in 1 page\n",
    "def get_url_in_page():\n",
    "    search_result = driver.find_element_by_class_name('s-result-list.s-search-results.sg-row')\n",
    "    product_list = search_result.find_elements_by_class_name('a-link-normal.a-text-normal')\n",
    "    urls = []\n",
    "    for i in range(0,len(product_list),2):\n",
    "        product = product_list[i]\n",
    "        urls.append(product.get_attribute('href'))\n",
    "    return urls"
   ]
  },
  {
   "cell_type": "code",
   "execution_count": 9,
   "metadata": {},
   "outputs": [
    {
     "name": "stdout",
     "output_type": "stream",
     "text": [
      "Done\n"
     ]
    }
   ],
   "source": [
    "\n",
    "next_button_container = driver.find_element_by_class_name('a-last')\n",
    "next_button = next_button_container.find_element_by_tag_name('a')\n",
    "while next_button is not None:\n",
    "    next_button.click()\n",
    "    url_list += get_url_in_page()\n",
    "    try:\n",
    "        next_button_container = driver.find_element_by_class_name('a-last')\n",
    "        next_button = next_button_container.find_element_by_tag_name('a')\n",
    "    except:\n",
    "        print('Done')\n",
    "        break"
   ]
  },
  {
   "cell_type": "code",
   "execution_count": 10,
   "metadata": {},
   "outputs": [
    {
     "data": {
      "text/plain": [
       "9303"
      ]
     },
     "execution_count": 10,
     "metadata": {},
     "output_type": "execute_result"
    }
   ],
   "source": [
    "len(url_list)"
   ]
  },
  {
   "cell_type": "code",
   "execution_count": 11,
   "metadata": {},
   "outputs": [],
   "source": [
    "with open('links.txt', 'w') as f:\n",
    "    for url in url_list:\n",
    "        f.write(url + '\\n')"
   ]
  },
  {
   "cell_type": "code",
   "execution_count": 6,
   "metadata": {},
   "outputs": [],
   "source": [
    "url_list = []\n",
    "# Read url list from file\n",
    "with open('links.txt', 'r') as f:\n",
    "    for line in f.readlines():\n",
    "        url_list.append(line)"
   ]
  },
  {
   "cell_type": "code",
   "execution_count": 7,
   "metadata": {},
   "outputs": [],
   "source": [
    "features = ['Screen Size', 'Screen Resolution', 'Processor', 'RAM', 'Hard Drive', 'Graphics Coprocessor', 'Chipset Brand', 'Card Description', 'Number of USB 3.0 Ports','Average Battery Life (in hours)', 'Brand Name', 'Series', 'Operating System', 'Item Weight', 'Product Dimensions', 'Item Dimensions L x W x H', 'Processor Brand', 'Processor Count','Flash Memory Size','Hard Drive Interface', 'Hard Drive Rotational Speed', 'Optical Drive Type','Batteries', 'Date First Available']\n",
    "features_with_price = features.copy()\n",
    "features_with_price.append('Price')\n",
    "features_map = {features_with_price[i]:i for i in range(len(features_with_price))}\n",
    "features_map['Max Screen Resolution'] = features.index('Screen Resolution')"
   ]
  },
  {
   "cell_type": "code",
   "execution_count": 8,
   "metadata": {},
   "outputs": [
    {
     "data": {
      "text/plain": [
       "25"
      ]
     },
     "execution_count": 8,
     "metadata": {},
     "output_type": "execute_result"
    }
   ],
   "source": [
    "len(features_with_price)"
   ]
  },
  {
   "cell_type": "code",
   "execution_count": 9,
   "metadata": {},
   "outputs": [],
   "source": [
    "def getFeatureRows(elems):\n",
    "    rows = []\n",
    "    for elem in elems:\n",
    "        rows += elem.find_elements_by_tag_name('tr')\n",
    "    return rows\n",
    "\n",
    "def extractData(rows):\n",
    "    res = [None]*len(features)\n",
    "    for row in rows:\n",
    "        key = row.find_element_by_tag_name('th')\n",
    "        if key is None or key.text not in features_map:\n",
    "            continue\n",
    "        value = row.find_element_by_tag_name('td').text\n",
    "        res[features_map[key.text]] = value\n",
    "    return res"
   ]
  },
  {
   "cell_type": "code",
   "execution_count": 10,
   "metadata": {},
   "outputs": [
    {
     "data": {
      "application/vnd.jupyter.widget-view+json": {
       "model_id": "a980ff96170f45c199f2e0e9897a84e9",
       "version_major": 2,
       "version_minor": 0
      },
      "text/plain": [
       "HBox(children=(IntProgress(value=0, max=1261), HTML(value='')))"
      ]
     },
     "metadata": {},
     "output_type": "display_data"
    },
    {
     "name": "stdout",
     "output_type": "stream",
     "text": [
      "\n"
     ]
    }
   ],
   "source": [
    "res = []\n",
    "for url in tqdm(url_list):\n",
    "    time.sleep(.1)\n",
    "    driver.get(url)\n",
    "    elems = driver.find_elements_by_class_name('prodDetTable')\n",
    "    rows = getFeatureRows(elems)\n",
    "    data = extractData(rows)\n",
    "    try:\n",
    "        price = driver.find_elements_by_id('priceblock_ourprice')\n",
    "        price = price.text\n",
    "    except:\n",
    "        try:\n",
    "            price = driver.find_elements_by_id('priceblock_dealprice')\n",
    "            price = price.text\n",
    "        except:\n",
    "            price = None\n",
    "    data.append(price)\n",
    "    res.append(data)"
   ]
  },
  {
   "cell_type": "code",
   "execution_count": 11,
   "metadata": {},
   "outputs": [],
   "source": [
    "df = pd.DataFrame(res, columns=features_with_price)\n",
    "df.fillna(value=pd.np.nan, inplace=True)"
   ]
  },
  {
   "cell_type": "code",
   "execution_count": 12,
   "metadata": {},
   "outputs": [
    {
     "data": {
      "text/html": [
       "<div>\n",
       "<style scoped>\n",
       "    .dataframe tbody tr th:only-of-type {\n",
       "        vertical-align: middle;\n",
       "    }\n",
       "\n",
       "    .dataframe tbody tr th {\n",
       "        vertical-align: top;\n",
       "    }\n",
       "\n",
       "    .dataframe thead th {\n",
       "        text-align: right;\n",
       "    }\n",
       "</style>\n",
       "<table border=\"1\" class=\"dataframe\">\n",
       "  <thead>\n",
       "    <tr style=\"text-align: right;\">\n",
       "      <th></th>\n",
       "      <th>Screen Size</th>\n",
       "      <th>Screen Resolution</th>\n",
       "      <th>Processor</th>\n",
       "      <th>RAM</th>\n",
       "      <th>Hard Drive</th>\n",
       "      <th>Graphics Coprocessor</th>\n",
       "      <th>Chipset Brand</th>\n",
       "      <th>Card Description</th>\n",
       "      <th>Number of USB 3.0 Ports</th>\n",
       "      <th>Average Battery Life (in hours)</th>\n",
       "      <th>...</th>\n",
       "      <th>Item Dimensions L x W x H</th>\n",
       "      <th>Processor Brand</th>\n",
       "      <th>Processor Count</th>\n",
       "      <th>Flash Memory Size</th>\n",
       "      <th>Hard Drive Interface</th>\n",
       "      <th>Hard Drive Rotational Speed</th>\n",
       "      <th>Optical Drive Type</th>\n",
       "      <th>Batteries</th>\n",
       "      <th>Date First Available</th>\n",
       "      <th>Price</th>\n",
       "    </tr>\n",
       "  </thead>\n",
       "  <tbody>\n",
       "    <tr>\n",
       "      <th>0</th>\n",
       "      <td>13.3 inches</td>\n",
       "      <td>1440x900</td>\n",
       "      <td>1.7 GHz Intel Core i7</td>\n",
       "      <td>8 GB DDR3</td>\n",
       "      <td>256 GB Solid State</td>\n",
       "      <td>Intel HD Graphics 5000</td>\n",
       "      <td>intel</td>\n",
       "      <td>Integrated</td>\n",
       "      <td>NaN</td>\n",
       "      <td>7 hours</td>\n",
       "      <td>...</td>\n",
       "      <td>12.8 x 8.94 x 0.11 inches</td>\n",
       "      <td>Intel</td>\n",
       "      <td>2</td>\n",
       "      <td>256 GB</td>\n",
       "      <td>Solid State</td>\n",
       "      <td>NaN</td>\n",
       "      <td>NaN</td>\n",
       "      <td>1 Lithium Polymer batteries required. (included)</td>\n",
       "      <td>October 4, 2017</td>\n",
       "      <td>NaN</td>\n",
       "    </tr>\n",
       "    <tr>\n",
       "      <th>1</th>\n",
       "      <td>15.6 inches</td>\n",
       "      <td>1920x1080</td>\n",
       "      <td>1.8 GHz Intel Core i7</td>\n",
       "      <td>16 GB</td>\n",
       "      <td>512 GB SSD</td>\n",
       "      <td>NVIDIA GeForce MX250 4GB GDDR5 Graphics</td>\n",
       "      <td>nvidia</td>\n",
       "      <td>dedicated</td>\n",
       "      <td>NaN</td>\n",
       "      <td>NaN</td>\n",
       "      <td>...</td>\n",
       "      <td>14.24 x 9.51 x 0.7 inches</td>\n",
       "      <td>Intel</td>\n",
       "      <td>4</td>\n",
       "      <td>NaN</td>\n",
       "      <td>Solid State</td>\n",
       "      <td>NaN</td>\n",
       "      <td>NaN</td>\n",
       "      <td>NaN</td>\n",
       "      <td>September 11, 2019</td>\n",
       "      <td>NaN</td>\n",
       "    </tr>\n",
       "    <tr>\n",
       "      <th>2</th>\n",
       "      <td>15.6 inches</td>\n",
       "      <td>1920X1080 pixels</td>\n",
       "      <td>2.9 GHz 8032</td>\n",
       "      <td>8 GB DDR4</td>\n",
       "      <td>Flash Memory Solid State</td>\n",
       "      <td>NVIDIA GeForce 940MX</td>\n",
       "      <td>nvidia</td>\n",
       "      <td>Dedicated</td>\n",
       "      <td>3</td>\n",
       "      <td>NaN</td>\n",
       "      <td>...</td>\n",
       "      <td>19.38 x 13.58 x 3.18 inches</td>\n",
       "      <td>Intel</td>\n",
       "      <td>4</td>\n",
       "      <td>256.0</td>\n",
       "      <td>NaN</td>\n",
       "      <td>NaN</td>\n",
       "      <td>No Optical Drive</td>\n",
       "      <td>1 Lithium ion batteries required. (included)</td>\n",
       "      <td>January 26, 2017</td>\n",
       "      <td>NaN</td>\n",
       "    </tr>\n",
       "    <tr>\n",
       "      <th>3</th>\n",
       "      <td>15.6 inches</td>\n",
       "      <td>1920x1080</td>\n",
       "      <td>2.4 GHz Intel Core i5</td>\n",
       "      <td>8 GB</td>\n",
       "      <td>256 GB SSD</td>\n",
       "      <td>Intel HD Graphics 520</td>\n",
       "      <td>intel</td>\n",
       "      <td>Integrated</td>\n",
       "      <td>NaN</td>\n",
       "      <td>NaN</td>\n",
       "      <td>...</td>\n",
       "      <td>11 x 7 x 0.78 inches</td>\n",
       "      <td>Intel</td>\n",
       "      <td>2</td>\n",
       "      <td>NaN</td>\n",
       "      <td>PCIE x 4</td>\n",
       "      <td>NaN</td>\n",
       "      <td>NaN</td>\n",
       "      <td>NaN</td>\n",
       "      <td>September 2, 2019</td>\n",
       "      <td>NaN</td>\n",
       "    </tr>\n",
       "    <tr>\n",
       "      <th>4</th>\n",
       "      <td>15.6 inches</td>\n",
       "      <td>1920 x 1080</td>\n",
       "      <td>Intel Core i5</td>\n",
       "      <td>NaN</td>\n",
       "      <td>flash_memory_solid_state</td>\n",
       "      <td>integrated</td>\n",
       "      <td>NaN</td>\n",
       "      <td>Integrated</td>\n",
       "      <td>NaN</td>\n",
       "      <td>NaN</td>\n",
       "      <td>...</td>\n",
       "      <td>NaN</td>\n",
       "      <td>Intel</td>\n",
       "      <td>2</td>\n",
       "      <td>8 GB</td>\n",
       "      <td>NaN</td>\n",
       "      <td>NaN</td>\n",
       "      <td>NaN</td>\n",
       "      <td>1 Lithium ion batteries required. (included)</td>\n",
       "      <td>July 12, 2019</td>\n",
       "      <td>NaN</td>\n",
       "    </tr>\n",
       "  </tbody>\n",
       "</table>\n",
       "<p>5 rows × 25 columns</p>\n",
       "</div>"
      ],
      "text/plain": [
       "   Screen Size Screen Resolution              Processor        RAM  \\\n",
       "0  13.3 inches          1440x900  1.7 GHz Intel Core i7  8 GB DDR3   \n",
       "1  15.6 inches         1920x1080  1.8 GHz Intel Core i7      16 GB   \n",
       "2  15.6 inches  1920X1080 pixels           2.9 GHz 8032  8 GB DDR4   \n",
       "3  15.6 inches         1920x1080  2.4 GHz Intel Core i5       8 GB   \n",
       "4  15.6 inches       1920 x 1080          Intel Core i5        NaN   \n",
       "\n",
       "                 Hard Drive                     Graphics Coprocessor  \\\n",
       "0        256 GB Solid State                   Intel HD Graphics 5000   \n",
       "1                512 GB SSD  NVIDIA GeForce MX250 4GB GDDR5 Graphics   \n",
       "2  Flash Memory Solid State                     NVIDIA GeForce 940MX   \n",
       "3                256 GB SSD                    Intel HD Graphics 520   \n",
       "4  flash_memory_solid_state                               integrated   \n",
       "\n",
       "  Chipset Brand Card Description Number of USB 3.0 Ports  \\\n",
       "0         intel       Integrated                     NaN   \n",
       "1        nvidia        dedicated                     NaN   \n",
       "2        nvidia        Dedicated                       3   \n",
       "3         intel       Integrated                     NaN   \n",
       "4           NaN       Integrated                     NaN   \n",
       "\n",
       "  Average Battery Life (in hours)  ...    Item Dimensions L x W x H  \\\n",
       "0                         7 hours  ...    12.8 x 8.94 x 0.11 inches   \n",
       "1                             NaN  ...    14.24 x 9.51 x 0.7 inches   \n",
       "2                             NaN  ...  19.38 x 13.58 x 3.18 inches   \n",
       "3                             NaN  ...         11 x 7 x 0.78 inches   \n",
       "4                             NaN  ...                          NaN   \n",
       "\n",
       "  Processor Brand Processor Count Flash Memory Size Hard Drive Interface  \\\n",
       "0           Intel               2            256 GB          Solid State   \n",
       "1           Intel               4               NaN          Solid State   \n",
       "2           Intel               4             256.0                  NaN   \n",
       "3           Intel               2               NaN             PCIE x 4   \n",
       "4           Intel               2              8 GB                  NaN   \n",
       "\n",
       "  Hard Drive Rotational Speed Optical Drive Type  \\\n",
       "0                         NaN                NaN   \n",
       "1                         NaN                NaN   \n",
       "2                         NaN   No Optical Drive   \n",
       "3                         NaN                NaN   \n",
       "4                         NaN                NaN   \n",
       "\n",
       "                                          Batteries Date First Available Price  \n",
       "0  1 Lithium Polymer batteries required. (included)      October 4, 2017   NaN  \n",
       "1                                               NaN   September 11, 2019   NaN  \n",
       "2      1 Lithium ion batteries required. (included)     January 26, 2017   NaN  \n",
       "3                                               NaN    September 2, 2019   NaN  \n",
       "4      1 Lithium ion batteries required. (included)        July 12, 2019   NaN  \n",
       "\n",
       "[5 rows x 25 columns]"
      ]
     },
     "execution_count": 12,
     "metadata": {},
     "output_type": "execute_result"
    }
   ],
   "source": [
    "df.head()"
   ]
  },
  {
   "cell_type": "code",
   "execution_count": 15,
   "metadata": {},
   "outputs": [],
   "source": [
    "df.to_csv('laptop.csv')"
   ]
  },
  {
   "cell_type": "code",
   "execution_count": 19,
   "metadata": {},
   "outputs": [],
   "source": [
    "df = pd.read_csv('laptop.csv', index_col = 0)"
   ]
  },
  {
   "cell_type": "code",
   "execution_count": 20,
   "metadata": {},
   "outputs": [
    {
     "name": "stdout",
     "output_type": "stream",
     "text": [
      "<class 'pandas.core.frame.DataFrame'>\n",
      "Int64Index: 9303 entries, 0 to 1260\n",
      "Data columns (total 25 columns):\n",
      "Screen Size                        8997 non-null object\n",
      "Screen Resolution                  7979 non-null object\n",
      "Processor                          9001 non-null object\n",
      "RAM                                9089 non-null object\n",
      "Hard Drive                         9089 non-null object\n",
      "Graphics Coprocessor               8528 non-null object\n",
      "Chipset Brand                      7701 non-null object\n",
      "Card Description                   6748 non-null object\n",
      "Number of USB 3.0 Ports            904 non-null float64\n",
      "Average Battery Life (in hours)    2369 non-null object\n",
      "Brand Name                         9126 non-null object\n",
      "Series                             8936 non-null object\n",
      "Operating System                   8952 non-null object\n",
      "Item Weight                        8603 non-null object\n",
      "Product Dimensions                 7984 non-null object\n",
      "Item Dimensions L x W x H          7873 non-null object\n",
      "Processor Brand                    8967 non-null object\n",
      "Processor Count                    9111 non-null float64\n",
      "Flash Memory Size                  3641 non-null object\n",
      "Hard Drive Interface               8170 non-null object\n",
      "Hard Drive Rotational Speed        1897 non-null object\n",
      "Optical Drive Type                 998 non-null object\n",
      "Batteries                          4961 non-null object\n",
      "Date First Available               9133 non-null object\n",
      "Price                              7376 non-null object\n",
      "dtypes: float64(2), object(23)\n",
      "memory usage: 1.8+ MB\n"
     ]
    }
   ],
   "source": [
    "df.info()"
   ]
  },
  {
   "cell_type": "code",
   "execution_count": null,
   "metadata": {},
   "outputs": [],
   "source": []
  }
 ],
 "metadata": {
  "kernelspec": {
   "display_name": "Python 3",
   "language": "python",
   "name": "python3"
  },
  "language_info": {
   "codemirror_mode": {
    "name": "ipython",
    "version": 3
   },
   "file_extension": ".py",
   "mimetype": "text/x-python",
   "name": "python",
   "nbconvert_exporter": "python",
   "pygments_lexer": "ipython3",
   "version": "3.7.4"
  }
 },
 "nbformat": 4,
 "nbformat_minor": 2
}
